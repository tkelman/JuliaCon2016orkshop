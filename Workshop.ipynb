{
 "cells": [
  {
   "cell_type": "markdown",
   "metadata": {},
   "source": [
    "# Creating, Distributing, and Testing Julia Packages with Binary Dependencies\n",
    "\n",
    "JuliaCon 2016 Workshop\n",
    "\n",
    "Tony Kelman (`@tkelman`)"
   ]
  },
  {
   "cell_type": "markdown",
   "metadata": {},
   "source": [
    "- So you wrote or want to use a Julia package that [calls into C or Fortran](http://docs.julialang.org/en/release-0.4/manual/calling-c-and-fortran-code/).\n",
    "- How do you go from \"`ccall` works on my machine\" to making your package easy to install for anyone?\n",
    "- You want `Pkg.add(\"MyPackage\")` to find, build, or download a copy of the library that will work on:\n",
    "  - Linux (many distributions, Ubuntu, CentOS, etc) on `x86_64` architecture\n",
    "  - Mac OS X\n",
    "  - Windows (7,8,10, with 64 bit and 32 bit Julia)\n",
    "  - More exotic OS or architecture combinations (won't cover in much detail)\n",
    "- Ideally without requiring the user to have root/admin permissions"
   ]
  },
  {
   "cell_type": "code",
   "execution_count": 2,
   "metadata": {
    "collapsed": false
   },
   "outputs": [
    {
     "name": "stdout",
     "output_type": "stream",
     "text": [
      "Already up-to-date.\n",
      "Already up-to-date.\n"
     ]
    }
   ],
   "source": [
    "include(\"clone_example.jl\")"
   ]
  },
  {
   "cell_type": "code",
   "execution_count": 10,
   "metadata": {
    "collapsed": false
   },
   "outputs": [],
   "source": []
  },
  {
   "cell_type": "code",
   "execution_count": null,
   "metadata": {
    "collapsed": false
   },
   "outputs": [],
   "source": []
  },
  {
   "cell_type": "code",
   "execution_count": null,
   "metadata": {
    "collapsed": true
   },
   "outputs": [],
   "source": []
  },
  {
   "cell_type": "code",
   "execution_count": null,
   "metadata": {
    "collapsed": true
   },
   "outputs": [],
   "source": []
  }
 ],
 "metadata": {
  "kernelspec": {
   "display_name": "Julia 0.4.5",
   "language": "julia",
   "name": "julia-0.4"
  },
  "language_info": {
   "file_extension": ".jl",
   "mimetype": "application/julia",
   "name": "julia",
   "version": "0.4.5"
  }
 },
 "nbformat": 4,
 "nbformat_minor": 0
}
